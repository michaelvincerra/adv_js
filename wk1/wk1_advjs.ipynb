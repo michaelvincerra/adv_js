{
 "cells": [
  {
   "cell_type": "markdown",
   "metadata": {
    "collapsed": true
   },
   "source": [
    "%%javascript\n",
    "26.09.2017\n",
    "Advanced JavaScript\n",
    "\n",
    "https://github.com/psbanka/jsclass-winter-2017\n",
    "\n",
    "\n",
    "GOALS - \n",
    "\n",
    "- Get familiar with JS syntax and idiosyncracies\n",
    "- Build an application together\n",
    "- warm up problems\n",
    "- Learn how to write tests, using pull-requests, and continuous integration\n",
    "- Develop your own portfolio of projects\n",
    "\n",
    "- Learn to use JS Framework: REACT\n",
    "- How to build a new application from the ground up\n",
    "- How to split our JavaScript code into modules\n",
    "- How to unit-test and integration tests (even TDD)\n",
    "- How to use OTS libraries\n",
    "- How to use GitHub\n",
    "- How to give and receive feedback\n",
    "- How to use asynchronous programming\n",
    "- How to write a JS app which uses a REST API backend\n",
    "- How to write requirements for a project and work through for start to end\n",
    "\n",
    "WHAT TOOLS TO USE?\n",
    "\n",
    "- ES 2016\n",
    "- React\n",
    "- ESlint\n",
    "- Jest, Enzyme\n",
    "- Visual Studio Code\n",
    "- Github\n",
    "- Travis CI\n",
    "- Firebase (Back-end Service)\n",
    "- Fetch (API to interface with backend)\n",
    "    "
   ]
  },
  {
   "cell_type": "markdown",
   "metadata": {},
   "source": [
    "%%javascript\n",
    "\n",
    "\n",
    "Learning React\n",
    "https://facebook.github.io/react/docs/thinking-in-react.html\n",
    "\n",
    "\n",
    "\n"
   ]
  },
  {
   "cell_type": "markdown",
   "metadata": {},
   "source": [
    "npm start\n",
    ".. starts the build \n",
    "\n",
    "node_modules/.bin/react-scripts start\n",
    "..look in the nodes modules folder and run the react-scripts file with the 'start' command"
   ]
  },
  {
   "cell_type": "markdown",
   "metadata": {},
   "source": [
    "<b> How to create an Element in REACT:</b>\n",
    "\n",
    "React.createElement('a', {\n",
    "href: \"https://michaelvincerra.github.io/\"\n",
    "}, \"Web Developer\"); \n"
   ]
  },
  {
   "cell_type": "raw",
   "metadata": {},
   "source": [
    "<!DOCTYPE html>\n",
    "<html>\n",
    "  <head>\n",
    "    <meta charset=\"utf-8\">\n",
    "    <title>Scoreboard</title>\n",
    "    <link rel=\"stylesheet\" href=\"./app.css\" />\n",
    "  </head>\n",
    "\n",
    "  <body>\n",
    "    <div id=\"container\">Loading...</div>\n",
    "    <script src=\"./vendor/react.js\"></script>\n",
    "    <script src=\"./vendor/react-dom.js\"></script>\n",
    "    <script src=\"./vendor/babel-browser.min.js\"></script>\n",
    "    <script type=\"text/babel\" src=\"./app.jsx\"></script>\n",
    "  </body>\n",
    "</html>"
   ]
  },
  {
   "cell_type": "markdown",
   "metadata": {},
   "source": [
    "app.jsx"
   ]
  },
  {
   "cell_type": "raw",
   "metadata": {},
   "source": [
    "<b> NOTE: div id=\"container\" above acts as entry point to interact with the DOM</b>\n",
    "\n",
    "function Application() {\n",
    "  return(\n",
    "  <div>\n",
    "   <h1>Hello from React</h1>\n",
    "    <p> I was rendered from the Application component! </p>\n",
    "   </div>\n",
    "  );\n",
    "}\n",
    "// Note the use of the self-closing tag in 'Application.'\n",
    "\n",
    "ReactDOM.render(<Application />, document.getElementById('container')); "
   ]
  },
  {
   "cell_type": "raw",
   "metadata": {},
   "source": [
    "function Application() {\n",
    "  return (\n",
    "<div className=\"scoreboard\">\n",
    "  <div className=\"header\">\n",
    "    <h1>Scoreboard</h1>\n",
    "  </div>\n",
    "    \n",
    "    <div className=\"players\">\n",
    "      <div className=\"player\">\n",
    "        <div className=\"player-name\">\n",
    "        Jim Nee Cricket\n",
    "        </div>    \n",
    "      <div className=\"player-score\">\n",
    "        <div className=\"counter\">\n",
    "        <button className=\"counter-action decrement\"> - </button>\n",
    "         <div className=\"counter-score\"> 31 </div>\n",
    "        <button className=\"counter-action increment\"> + </button>\n",
    "       </div>\n",
    "      </div>\n",
    "   </div>\n",
    "    \n",
    "    <div className=\"player\">\n",
    "        <div className=\"player-name\">\n",
    "        Jim Morrison\n",
    "        </div>    \n",
    "      <div className=\"player-score\">\n",
    "        <div className=\"counter\">\n",
    "        <button className=\"counter-action decrement\"> - </button>\n",
    "         <div className=\"counter-score\"> 33 </div>\n",
    "        <button className=\"counter-action increment\"> + </button>\n",
    "       </div>\n",
    "      </div>\n",
    "   </div>\n",
    "    \n",
    "          <div className=\"player\">\n",
    "        <div className=\"player-name\">\n",
    "        Jim Jones\n",
    "        </div>    \n",
    "      <div className=\"player-score\">\n",
    "        <div className=\"counter\">\n",
    "        <button className=\"counter-action decrement\"> - </button>\n",
    "         <div className=\"counter-score\"> 35 </div>\n",
    "        <button className=\"counter-action increment\"> + </button>\n",
    "       </div>\n",
    "      </div>\n",
    "   </div>\n",
    "    \n",
    "    \n",
    "    \n",
    "    \n",
    "  </div>\n",
    "    \n",
    " </div>\n",
    "  \n",
    "  );\n",
    "}\n",
    "\n",
    "ReactDOM.render(<Application />, document.getElementById('container'));"
   ]
  },
  {
   "cell_type": "raw",
   "metadata": {
    "collapsed": true
   },
   "source": [
    "\"Properties\"   See Jim Hoskins REACT Basics, www.teamtreehouse.com"
   ]
  },
  {
   "cell_type": "raw",
   "metadata": {},
   "source": [
    "28.09.2017 | Advanced JavaScript"
   ]
  },
  {
   "cell_type": "code",
   "execution_count": null,
   "metadata": {
    "collapsed": true
   },
   "outputs": [],
   "source": [
    "https://github.com/psbanka/jsclass-winter-2017/blob/master/warmups/basics.md\n",
    "    \n",
    "https://developer.mozilla.org/en-US/docs/Web/JavaScript/Reference/Global_Objects/Function/bind\n",
    "    \n",
    "https://github.com/mbeaudru/modern-js-cheatsheet#short-explanation    "
   ]
  },
  {
   "cell_type": "raw",
   "metadata": {},
   "source": [
    "npm =run all things in project (package.json)\n"
   ]
  },
  {
   "cell_type": "raw",
   "metadata": {},
   "source": [
    "Ms-MacBook-Pro:test1 michaelevan$ node\n",
    "> const myValue = true\n",
    "undefined\n",
    "> let foo = myValue ? 1 : 2\n",
    "undefined\n",
    "> foo\n",
    "1"
   ]
  },
  {
   "cell_type": "markdown",
   "metadata": {},
   "source": [
    "TODO\n",
    "Link in the checkbox\n",
    "\n",
    "use the filter method\n",
    "to get text in the search box on change...... use event.target.value\n"
   ]
  }
 ],
 "metadata": {
  "kernelspec": {
   "display_name": "Python 3",
   "language": "python",
   "name": "python3"
  },
  "language_info": {
   "codemirror_mode": {
    "name": "ipython",
    "version": 3
   },
   "file_extension": ".py",
   "mimetype": "text/x-python",
   "name": "python",
   "nbconvert_exporter": "python",
   "pygments_lexer": "ipython3",
   "version": "3.6.0"
  }
 },
 "nbformat": 4,
 "nbformat_minor": 1
}
